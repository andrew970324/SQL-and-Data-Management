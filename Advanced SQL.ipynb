{
 "cells": [
  {
   "cell_type": "markdown",
   "metadata": {
    "deletable": false,
    "editable": false
   },
   "source": [
    "# Homework 3 Jupyter Notebook\n",
    "## Sample Python Program\n",
    "\n",
    "In the following cell, we include a python program that connects to the `class_db` MySQL database in our container and prints the tuples in the Student and Class tables. We will explain the code step-by-step soon, but please execute the code in the cell first and look at the printed tuples:"
   ]
  },
  {
   "cell_type": "code",
   "execution_count": 1,
   "metadata": {
    "deletable": false,
    "editable": false
   },
   "outputs": [
    {
     "name": "stdout",
     "output_type": "stream",
     "text": [
      "Student Table\n",
      "-------------\n",
      "(128, 'Peltier', 'Comp. Sci.', 102)\n",
      "(12345, 'Shankar', 'Comp. Sci.', 32)\n",
      "(19991, 'Brandt', 'History', 80)\n",
      "(23121, 'Chavez', 'Finance', 110)\n",
      "(44553, 'Zhang', 'Physics', 56)\n",
      "(45678, 'Levy', 'Physics', 46)\n",
      "(54321, 'Williams', 'Comp. Sci.', 54)\n",
      "(55739, 'Sanchez', 'Music', 38)\n",
      "(70557, 'Snow', 'Physics', 0)\n",
      "(76543, 'Brown', 'Comp. Sci.', 58)\n",
      "(76653, 'Aoi', 'Elec. Eng.', 60)\n",
      "(98765, 'Zhang', 'Elec. Eng.', 98)\n",
      "(98988, 'Tanaka', 'Biology', 120)\n",
      "\n",
      "Class Table\n",
      "-----------\n",
      "('BIO-101', 'Intro. to Biology', 'Biology', 4)\n",
      "('BIO-301', 'Genetics', 'Biology', 4)\n",
      "('BIO-399', 'Computational Biology', 'Biology', 3)\n",
      "('CS-101', 'Intro. to Computer Science', 'Comp. Sci.', 4)\n",
      "('CS-190', 'Game Design', 'Comp. Sci.', 4)\n",
      "('CS-315', 'Robotics', 'Comp. Sci.', 3)\n",
      "('CS-319', 'Image Processing', 'Comp. Sci.', 3)\n",
      "('CS-347', 'Database System Concepts', 'Comp. Sci.', 3)\n",
      "('EE-181', 'Intro. to Digital Systems', 'Elec. Eng.', 3)\n",
      "('FIN-201', 'Investment Banking', 'Finance', 3)\n",
      "('HIS-351', 'World History', 'History', 3)\n",
      "('MU-199', 'Music Video Production', 'Music', 3)\n",
      "('PHY-101', 'Physical Principles', 'Physics', 4)\n"
     ]
    }
   ],
   "source": [
    "import mysql.connector\n",
    "\n",
    "connection = mysql.connector.connect(\n",
    "  host=\"localhost\",\n",
    "  user=\"msa402\",      # your username\n",
    "  password=\"\",        # your pasword\n",
    "  database=\"class_db\" # your database name\n",
    ")\n",
    "connection.autocommit = True\n",
    "\n",
    "print(\"Student Table\")\n",
    "print(\"-------------\")\n",
    "cursor = connection.cursor()\n",
    "cursor.execute(\"select * from Student;\")\n",
    "for row in cursor:\n",
    "    print(row)\n",
    "cursor.close()\n",
    "\n",
    "print(\"\\nClass Table\")\n",
    "print(\"-----------\")\n",
    "cursor = connection.cursor()\n",
    "cursor.execute(\"select * from Class;\")\n",
    "for row in cursor:\n",
    "    print(row)\n",
    "cursor.close()\n",
    "\n",
    "connection.close()"
   ]
  },
  {
   "cell_type": "markdown",
   "metadata": {
    "deletable": false,
    "editable": false
   },
   "source": [
    "### Explanation of the Code\n",
    "\n",
    "Here is a line-by-line explanation of the above code:\n",
    "\n",
    "Python needs a special driver to access the MySQL database. In our container, we have already installed the \"MySQL-Connector\" driver, which can be used by \"importing\" it:\n",
    "\n",
    "```python\n",
    "import mysql.connector\n",
    "```\n",
    "\n",
    "Once the driver is imported, you can connect to the MySQL database server using the driver's `connect()` function:\n",
    "\n",
    "```python\n",
    "connection = mysql.connector.connect(\n",
    "  host=\"localhost\",\n",
    "  user=\"msa402\",      # your username\n",
    "  password=\"\",        # your pasword\n",
    "  database=\"class_db\" # your database name\n",
    ")\n",
    "```\n",
    "\n",
    "The next line in the code enables the \"autocommit mode\" of the driver:\n",
    "\n",
    "```python\n",
    "connection.autocommit = True. \n",
    "```\n",
    "\n",
    "When the autocommit mode is on, the driver automatically call the `commit()` function after every SQL statement, so that the effect of the SQL statement is permanetly \"committed\" in the database. When the autocommit mode is off (the default setting), you will have to maually call the `commit()` function after every SQL statement that may change the database, but this is too easy to forget and inconvenient for doing our homework. \n",
    "\n",
    "We are now ready to issue a SQL statement to the MySQL database using the established connection. In order to issue a SQL command, obtain a \"cursor\" from the connection and call `execute(\"Your SQL command\")` on the cursor:\n",
    "\n",
    "```python\n",
    "cursor = connection.cursor()\n",
    "cursor.execute(\"select * from Student;\")\n",
    "```\n",
    "\n",
    "The result from the executed command can be accessed by iterating over the cursor:\n",
    "\n",
    "```python\n",
    "for row in cursor:\n",
    "    print(row)\n",
    "```\n",
    "\n",
    "When you finish accessing the result, make sure to \"close\" the cursor, so that the resources associated with the cursor are freed by the driver:\n",
    "\n",
    "```python\n",
    "cursor.close()\n",
    "```\n",
    "\n",
    "If you want to run another query, obtain a new cursor from the connection and repeat the process:\n",
    "\n",
    "```python\n",
    "cursor = connection.cursor()\n",
    "cursor.execute(\"select * from Class;\")\n",
    "for row in cursor:\n",
    "    print(row)\n",
    "cursor.close()\n",
    "```\n",
    "\n",
    "After you are done with interacting with the database and do not need the database connection any more, make sure to close the connection. Leaving unused open connections can lead to several unexpected errors and performance issues.\n",
    "\n",
    "```python\n",
    "connection.close()\n",
    "```"
   ]
  },
  {
   "cell_type": "markdown",
   "metadata": {
    "deletable": false,
    "editable": false
   },
   "source": [
    "## Writing Advanced SQL Queries\n",
    "\n",
    "Now that you know how to access MySQL database with Python, your next job is to write SQL queries given our English descriptions.\n",
    "\n",
    "To minimize your typing and to help our autograder run your code easily, we define a function named `query()` in the next cell. The function takes a SQL command as an input parameter and prints its result tuples. Execute the next cell so that the `query()` function is available in the Jupyter notebook."
   ]
  },
  {
   "cell_type": "code",
   "execution_count": 2,
   "metadata": {
    "deletable": false,
    "editable": false
   },
   "outputs": [],
   "source": [
    "import mysql.connector\n",
    "\n",
    "def query(sql):\n",
    "    \"\"\"Takes a SQL query and prints the resulting tuples from the query\"\"\"\n",
    "    global connection\n",
    "    if \"connection\" not in globals() or not connection.is_connected():\n",
    "        # open a new connection if it is not available\n",
    "        connection = mysql.connector.connect(host=\"localhost\", user=\"msa402\", password=\"\", database=\"class_db\")\n",
    "        connection.autocommit = True\n",
    "    \n",
    "    cursor = connection.cursor()\n",
    "    cursor.execute(sql)\n",
    "    for row in cursor:\n",
    "        print(row)\n",
    "    cursor.close()"
   ]
  },
  {
   "cell_type": "markdown",
   "metadata": {
    "deletable": false,
    "editable": false
   },
   "source": [
    "Now you job is to write SQL queries based on their English descriptions given later. Note that all your answers must be **a single Python statement that calls the `query()` function with a SQL statement** that computes the correct result. For example, if our question is \"Return the ID of the instructor 'Srinivasan'\", your answer should be\n",
    "\n",
    "```python\n",
    "query(\"select id from Instructor where name='Srinivasan';\")\n",
    "```\n",
    "\n",
    "Note that in Python, a string can span over multiple lines using the triple-quotes notation:\n",
    "\n",
    "```python\n",
    "# multiple-line string\n",
    "\"\"\"\n",
    "select id\n",
    "from Instructor\n",
    "where name='Srinivasan';\n",
    "\"\"\"\n",
    "```\n",
    "\n",
    "This notation can be convenient if you need to write a long SQL query that should span over multiple lines.\n"
   ]
  },
  {
   "cell_type": "markdown",
   "metadata": {
    "deletable": false,
    "editable": false
   },
   "source": [
    "## Problems\n",
    "\n",
    "In writing your queries, you may assume that \n",
    "\n",
    "-  Every department offers at least one class.\n",
    "-  Every department has at least one instructor.\n",
    "-  Every department has at least one student.\n",
    "\n",
    "Please make sure that your queries **do not return any duplicates,** but try to avoid using `DISTINCT` when it is not necessary\n",
    "**Query1**: Find the instructors' average salary."
   ]
  },
  {
   "cell_type": "code",
   "execution_count": 3,
   "metadata": {
    "deletable": false,
    "tags": [
     "Q1"
    ]
   },
   "outputs": [
    {
     "name": "stdout",
     "output_type": "stream",
     "text": [
      "(Decimal('74833.333333'),)\n"
     ]
    }
   ],
   "source": [
    "query(\n",
    "    \"\"\" \n",
    "    SELECT AVG(salary)\n",
    "    FROM Instructor;\n",
    "    \"\"\"\n",
    ")\n",
    "\n"
   ]
  },
  {
   "cell_type": "markdown",
   "metadata": {
    "deletable": false,
    "editable": false
   },
   "source": [
    "**Query2**: For each department, find the max credit among all classes offered by the department. Your answer should consists of tuples with two columns (dept, maximum_course_credit)."
   ]
  },
  {
   "cell_type": "code",
   "execution_count": 4,
   "metadata": {
    "deletable": false,
    "scrolled": true,
    "tags": [
     "Q2"
    ]
   },
   "outputs": [
    {
     "name": "stdout",
     "output_type": "stream",
     "text": [
      "('Biology', 4)\n",
      "('Comp. Sci.', 4)\n",
      "('Elec. Eng.', 3)\n",
      "('Finance', 3)\n",
      "('History', 3)\n",
      "('Music', 3)\n",
      "('Physics', 4)\n"
     ]
    }
   ],
   "source": [
    "query(\n",
    "    \"\"\"\n",
    "    SELECT dept, MAX(credits)\n",
    "    FROM Class\n",
    "    GROUP BY dept\n",
    "    \"\"\"\n",
    ")\n",
    "\n"
   ]
  },
  {
   "cell_type": "markdown",
   "metadata": {
    "deletable": false,
    "editable": false
   },
   "source": [
    "**Query3**: Return the department names that offer at least three classes."
   ]
  },
  {
   "cell_type": "code",
   "execution_count": 5,
   "metadata": {
    "deletable": false,
    "tags": [
     "Q3"
    ]
   },
   "outputs": [
    {
     "name": "stdout",
     "output_type": "stream",
     "text": [
      "('Biology',)\n",
      "('Comp. Sci.',)\n"
     ]
    }
   ],
   "source": [
    "query(\n",
    "    \"\"\"\n",
    "    SELECT dept\n",
    "    FROM Class\n",
    "    GROUP BY dept\n",
    "    HAVING COUNT(*) >= 3;\n",
    "    \"\"\"\n",
    ")\n",
    "\n"
   ]
  },
  {
   "cell_type": "markdown",
   "metadata": {
    "deletable": false,
    "editable": false
   },
   "source": [
    "**Query4**: Find the names of departments that offer only 3-credit classes if they offer any class at all. Include a department in your answer if it offers no class."
   ]
  },
  {
   "cell_type": "code",
   "execution_count": 6,
   "metadata": {
    "deletable": false,
    "tags": [
     "Q4"
    ]
   },
   "outputs": [
    {
     "name": "stdout",
     "output_type": "stream",
     "text": [
      "('Elec. Eng.',)\n",
      "('Finance',)\n",
      "('History',)\n",
      "('Music',)\n"
     ]
    }
   ],
   "source": [
    "query(\n",
    "    \"\"\"\n",
    "    SELECT dept\n",
    "    FROM Class\n",
    "    WHERE dept NOT IN\n",
    "    \n",
    "    (SELECT dept\n",
    "    FROM Class\n",
    "    WHERE credits = 4);\n",
    "    \"\"\"\n",
    ")\n",
    "\n",
    "\n"
   ]
  },
  {
   "cell_type": "markdown",
   "metadata": {
    "deletable": false,
    "editable": false
   },
   "source": [
    "**Query5**: Return the average credit of the courses that are offered by the 'Comp. Sci.' department. "
   ]
  },
  {
   "cell_type": "code",
   "execution_count": 7,
   "metadata": {
    "deletable": false,
    "tags": [
     "Q5"
    ]
   },
   "outputs": [
    {
     "name": "stdout",
     "output_type": "stream",
     "text": [
      "(Decimal('3.4000'),)\n"
     ]
    }
   ],
   "source": [
    "query(\n",
    "    \"\"\"\n",
    "    SELECT AVG(credits)\n",
    "    FROM Class\n",
    "    WHERE dept = 'Comp. Sci.';\n",
    "    \"\"\"\n",
    ")\n",
    "\n"
   ]
  },
  {
   "cell_type": "markdown",
   "metadata": {
    "deletable": false,
    "editable": false
   },
   "source": [
    "**Query6**: As above, but display the average course credit per *every* department. Your answer should consist of two columns (dept, dept_average_course_credit) and every department should appear once in your result."
   ]
  },
  {
   "cell_type": "code",
   "execution_count": 8,
   "metadata": {
    "deletable": false,
    "tags": [
     "Q6"
    ]
   },
   "outputs": [
    {
     "name": "stdout",
     "output_type": "stream",
     "text": [
      "('Biology', Decimal('3.6667'))\n",
      "('Comp. Sci.', Decimal('3.4000'))\n",
      "('Elec. Eng.', Decimal('3.0000'))\n",
      "('Finance', Decimal('3.0000'))\n",
      "('History', Decimal('3.0000'))\n",
      "('Music', Decimal('3.0000'))\n",
      "('Physics', Decimal('4.0000'))\n"
     ]
    }
   ],
   "source": [
    "query(\n",
    "    \"\"\"\n",
    "    SELECT dept, AVG(credits)\n",
    "    FROM Class\n",
    "    GROUP BY dept;\n",
    "    \"\"\"\n",
    ")\n"
   ]
  },
  {
   "cell_type": "markdown",
   "metadata": {
    "deletable": false,
    "editable": false
   },
   "source": [
    "**Query7**: For every department, display the average course credit of the department **and** the *overall average* of the course credits (i.e., the average credit over *all* courses, not within a department). Your answer should consist of three columns (dept, dept_avg_course_credit, overall_avg_course_credit). In your answer, return one tuple per each department.\n",
    "\n",
    "Note that the overall course-credit average is 3.3846 in our dataset, so something is wrong with your query if you get a different number in the third column of your result."
   ]
  },
  {
   "cell_type": "code",
   "execution_count": 9,
   "metadata": {
    "deletable": false,
    "tags": [
     "Q7"
    ]
   },
   "outputs": [
    {
     "name": "stdout",
     "output_type": "stream",
     "text": [
      "('Biology', Decimal('3.6667'), Decimal('3.3846'))\n",
      "('Comp. Sci.', Decimal('3.4000'), Decimal('3.3846'))\n",
      "('Elec. Eng.', Decimal('3.0000'), Decimal('3.3846'))\n",
      "('Finance', Decimal('3.0000'), Decimal('3.3846'))\n",
      "('History', Decimal('3.0000'), Decimal('3.3846'))\n",
      "('Music', Decimal('3.0000'), Decimal('3.3846'))\n",
      "('Physics', Decimal('4.0000'), Decimal('3.3846'))\n"
     ]
    }
   ],
   "source": [
    "query(\n",
    "    \"\"\"\n",
    "    SELECT DISTINCT dept, AVG(credits) OVER(PARTITION BY dept), AVG(credits) OVER()\n",
    "    FROM Class;\n",
    "    \"\"\"\n",
    ")\n",
    "\n"
   ]
  },
  {
   "cell_type": "markdown",
   "metadata": {
    "deletable": false,
    "editable": false
   },
   "source": [
    "**Query8**: Compute the average salary of all instructors and compare it against the average instructor salary within each department. Your answer must consists of two columns (dept, diff_avg_salary), where dept is a department name and diff_avg_salary is avg(all instructor salaries) - avg(the department's instructors' salaries). In your answer, return one tuple per each department."
   ]
  },
  {
   "cell_type": "code",
   "execution_count": 10,
   "metadata": {
    "deletable": false,
    "tags": [
     "Q8"
    ]
   },
   "outputs": [
    {
     "name": "stdout",
     "output_type": "stream",
     "text": [
      "('Biology', Decimal('2833.333333'))\n",
      "('Comp. Sci.', Decimal('-2500.000000'))\n",
      "('Elec. Eng.', Decimal('-5166.666667'))\n",
      "('Finance', Decimal('-10166.666667'))\n",
      "('History', Decimal('13833.333333'))\n",
      "('Music', Decimal('34833.333333'))\n",
      "('Physics', Decimal('-16166.666667'))\n"
     ]
    }
   ],
   "source": [
    "query(\n",
    "    \"\"\"\n",
    "    SELECT distinct dept, (AVG(salary) OVER() - AVG(salary) OVER(PARTITION BY dept) )\n",
    "    FROM Instructor;\n",
    "    \"\"\"\n",
    ")\n",
    "\n"
   ]
  },
  {
   "cell_type": "markdown",
   "metadata": {
    "deletable": false,
    "editable": false
   },
   "source": [
    "**Query9**: 'Comp. Sci.' and 'Elec. Eng.' departments belong to 'Engineering' school and all other departments belong to 'L&S' (letter and science) school. For every department, return the school they belong to. Your answer must consist of two columns (dept, school). \n",
    "\n",
    "Remark: There are many ways to write this query, but using the `CASE` function is likely to lead to the most succinct query."
   ]
  },
  {
   "cell_type": "code",
   "execution_count": 11,
   "metadata": {
    "deletable": false,
    "tags": [
     "Q9"
    ]
   },
   "outputs": [
    {
     "name": "stdout",
     "output_type": "stream",
     "text": [
      "('Biology', 'L&S')\n",
      "('Comp. Sci.', 'Engineering')\n",
      "('Elec. Eng.', 'Engineering')\n",
      "('Finance', 'L&S')\n",
      "('History', 'L&S')\n",
      "('Music', 'L&S')\n",
      "('Physics', 'L&S')\n"
     ]
    }
   ],
   "source": [
    "query(\n",
    "    \"\"\"\n",
    "    SELECT dept, CASE WHEN(dept='Comp. Sci.' OR dept='Elec. Eng.') THEN 'Engineering' ELSE 'L&S' END AS school\n",
    "    FROM Department;\n",
    "    \"\"\"\n",
    ")\n"
   ]
  },
  {
   "cell_type": "markdown",
   "metadata": {
    "deletable": false,
    "editable": false
   },
   "source": [
    "**Query10**: For each school (i.e., Engineering or L&S), show the number of students and the number of instructors in the school. Your answer must consists of three columns (school, num_studs, num_insts). \n"
   ]
  },
  {
   "cell_type": "code",
   "execution_count": 12,
   "metadata": {
    "deletable": false,
    "tags": [
     "Q10"
    ]
   },
   "outputs": [
    {
     "name": "stdout",
     "output_type": "stream",
     "text": [
      "('Engineering', 6, 4)\n",
      "('L&S', 7, 8)\n"
     ]
    }
   ],
   "source": [
    "query(\n",
    "    \"\"\"\n",
    "    SELECT CASE WHEN(D.dept='Comp. Sci.' OR D.dept='Elec. Eng.') THEN 'Engineering' ELSE 'L&S' END AS school, COUNT(DISTINCT S.name) AS num_studs, COUNT(DISTINCT I.name) AS num_insts\n",
    "    FROM Department D LEFT OUTER JOIN Student S ON D.dept = S.dept LEFT OUTER JOIN Instructor I ON D.dept = I.dept\n",
    "    GROUP BY school;\n",
    "    \"\"\"\n",
    ")\n"
   ]
  },
  {
   "cell_type": "markdown",
   "metadata": {
    "deletable": false,
    "editable": false
   },
   "source": [
    "**Query11**: Find the id's of the students who took more classes in 2009 than in 2010 (in terms of number of classes, not credits).\n",
    "Remark: This query is quite tricky to get right because some students took classes in 2009 but not in 2010. Using `OUTER JOIN` may lead to a succinct query.\n"
   ]
  },
  {
   "cell_type": "code",
   "execution_count": 13,
   "metadata": {
    "deletable": false,
    "tags": [
     "Q11"
    ]
   },
   "outputs": [
    {
     "name": "stdout",
     "output_type": "stream",
     "text": [
      "(128,)\n",
      "(12345,)\n",
      "(44553,)\n",
      "(54321,)\n",
      "(76653,)\n"
     ]
    }
   ],
   "source": [
    "query(\n",
    "    \"\"\"\n",
    "    WITH Classes AS \n",
    "    (SELECT stud_id, COUNT(CASE WHEN(year='2009') THEN '1' ELSE NULL END) AS Class_09, COUNT(CASE WHEN(year='2010') THEN '1' ELSE NULL END) AS Class_10\n",
    "    FROM Takes\n",
    "    GROUP BY stud_id\n",
    "    HAVING Class_09 > Class_10)\n",
    "    SELECT stud_id FROM Classes;\n",
    "    \"\"\"\n",
    ")\n"
   ]
  },
  {
   "cell_type": "markdown",
   "metadata": {
    "deletable": false,
    "editable": false
   },
   "source": [
    "**Query12**: For every student, return the year in which they obtained the maximum number of course credits. Your answer must consists of two columns, (stud_id, max_credit_year). If a student, say id 12345, obtained the maximum number of course credits in multiple years, say in 2009 and 2010, your answer must return one tuple per each year, like (12345, 2009) and (12345, 2010). If a student did not take any class at all, do not return the student.\n",
    "\n",
    "Remark: There are many ways to write this query, but using *common table expression* may lead to a succinct query."
   ]
  },
  {
   "cell_type": "code",
   "execution_count": 14,
   "metadata": {
    "deletable": false,
    "tags": [
     "Q12"
    ]
   },
   "outputs": [
    {
     "name": "stdout",
     "output_type": "stream",
     "text": [
      "(128, 2009)\n",
      "(12345, 2009)\n",
      "(19991, 2010)\n",
      "(23121, 2010)\n",
      "(44553, 2009)\n",
      "(45678, 2010)\n",
      "(54321, 2009)\n",
      "(55739, 2010)\n",
      "(76543, 2009)\n",
      "(76653, 2009)\n",
      "(98765, 2009)\n",
      "(98988, 2009)\n",
      "(98988, 2010)\n"
     ]
    }
   ],
   "source": [
    "query(\n",
    "    \"\"\"\n",
    "    WITH MaxCred AS\n",
    "    (SELECT stud_id, year, SUM(credits) AS tot_creds, MAX(SUM(credits)) OVER(PARTITION BY stud_id) AS highest\n",
    "    FROM Takes\n",
    "    LEFT JOIN Class ON Takes.class_id = Class.id\n",
    "    GROUP BY stud_id, year)\n",
    "    \n",
    "    SELECT stud_id, year\n",
    "    FROM MaxCred\n",
    "    WHERE highest = tot_creds;\n",
    "    \"\"\"\n",
    ")\n",
    "\n"
   ]
  },
  {
   "cell_type": "markdown",
   "metadata": {
    "deletable": false,
    "editable": false
   },
   "source": [
    "**Query13**: Return the id's of the top-4 students who have obtained the largest number of course credits so far. In case of a tie, you can break the tie arbitrarily (i.e., you may return any student(s) that tied). \n",
    "\n",
    "Remark: MySQL does not support the SQL standard `FETCH FIRST` clause. You may have to use the `LIMIT` clause that is supported by MySQL for this query."
   ]
  },
  {
   "cell_type": "code",
   "execution_count": 30,
   "metadata": {
    "deletable": false,
    "tags": [
     "Q13"
    ]
   },
   "outputs": [
    {
     "name": "stdout",
     "output_type": "stream",
     "text": [
      "(12345,)\n",
      "(45678,)\n",
      "(98988,)\n",
      "(54321,)\n"
     ]
    }
   ],
   "source": [
    "query(\n",
    "    \"\"\"\n",
    "    WITH TotCred AS\n",
    "    (SELECT stud_id, SUM(credits) AS tot_creds\n",
    "    FROM Takes\n",
    "    LEFT JOIN Class ON Takes.class_id = Class.id\n",
    "    GROUP BY stud_id)\n",
    "    \n",
    "    SELECT stud_id \n",
    "    FROM TotCred\n",
    "    ORDER BY tot_creds DESC\n",
    "    LIMIT 4;\n",
    "    \"\"\"\n",
    ")\n",
    "\n"
   ]
  },
  {
   "cell_type": "markdown",
   "metadata": {
    "deletable": false,
    "editable": false
   },
   "source": [
    "**Query14**: For every student, show their name and their advisor's name. Your answer must consist of two columns (student_name, advisor_name). If a student does not have any advisor, return NULL as the advisor's name. \n",
    "\n",
    "Remark: There are many ways to write this query, but using `OUTER JOIN` may lead to a succinct query.\n",
    "\n",
    "**Note**: Python does not have NULL as one of its primitive values, so it automatically converts SQL NULL values into `None`. If your answers contain `None` as opposed to NULL, that is expected. No need to worry about it."
   ]
  },
  {
   "cell_type": "code",
   "execution_count": 16,
   "metadata": {
    "deletable": false,
    "tags": [
     "Q14"
    ]
   },
   "outputs": [
    {
     "name": "stdout",
     "output_type": "stream",
     "text": [
      "('Peltier', 'Katz')\n",
      "('Shankar', 'Srinivasan')\n",
      "('Brandt', None)\n",
      "('Chavez', 'Singh')\n",
      "('Zhang', 'Einstein')\n",
      "('Levy', 'Einstein')\n",
      "('Williams', None)\n",
      "('Sanchez', None)\n",
      "('Snow', None)\n",
      "('Brown', 'Katz')\n",
      "('Aoi', 'Kim')\n",
      "('Zhang', 'Kim')\n",
      "('Tanaka', 'Crick')\n"
     ]
    }
   ],
   "source": [
    "query(\n",
    "    \"\"\"\n",
    "    WITH A AS (SELECT Advisor.stud_id, Advisor.inst_id, Instructor.name FROM Instructor, Advisor WHERE Advisor.inst_id = Instructor.id)\n",
    "    SELECT Student.name, A.name\n",
    "    FROM Student LEFT OUTER JOIN A ON Student.id = A.stud_id\n",
    "    GROUP BY Student.id;\n",
    "    \"\"\"\n",
    ")\n"
   ]
  },
  {
   "cell_type": "markdown",
   "metadata": {
    "deletable": false,
    "editable": false
   },
   "source": [
    "**Query15**: Some of you may have noticed that the tot\\_cred value for students do not match the credits from the courses they have taken. For every student, show this discrepency. Your answer must consist of two columns, (stud_id, credit_discrepency), where credit_discrepency is tot_cred - sum(credits of the courses taken by the student).\n",
    "\n",
    "Please note that some students may not have taken any classes. Your answer must include those students as well.\n",
    "\n",
    "Remark: You may find the `COALESCE()` function helpful in writing the query."
   ]
  },
  {
   "cell_type": "code",
   "execution_count": 36,
   "metadata": {
    "deletable": false,
    "scrolled": true,
    "tags": [
     "Q15"
    ]
   },
   "outputs": [
    {
     "name": "stdout",
     "output_type": "stream",
     "text": [
      "(128, Decimal('95'))\n",
      "(12345, Decimal('18'))\n",
      "(19991, Decimal('77'))\n",
      "(23121, Decimal('107'))\n",
      "(44553, Decimal('52'))\n",
      "(45678, Decimal('35'))\n",
      "(54321, Decimal('46'))\n",
      "(55739, Decimal('35'))\n",
      "(70557, Decimal('0'))\n",
      "(76543, Decimal('51'))\n",
      "(76653, Decimal('57'))\n",
      "(98765, Decimal('91'))\n",
      "(98988, Decimal('112'))\n"
     ]
    }
   ],
   "source": [
    "query(\n",
    "    \"\"\"\n",
    "    WITH Diff AS \n",
    "    (SELECT S.id, COALESCE(SUM(credits), tot_cred) AS real_creds, tot_cred\n",
    "    FROM Student S\n",
    "    LEFT JOIN Takes T ON S.id = T.stud_id\n",
    "    LEFT JOIN Class C ON C.id = T.class_id\n",
    "    GROUP BY S.id)\n",
    "    \n",
    "    SELECT id, (tot_cred - real_creds) AS credit_discrepancy\n",
    "    FROM Diff;\n",
    "    \"\"\"\n",
    ")\n",
    "\n"
   ]
  },
  {
   "cell_type": "markdown",
   "metadata": {
    "deletable": false,
    "editable": false
   },
   "source": [
    "**Query16**: Return all class id's that a student must take before taking 'BIO-399', including its prerequisites and the prerequisites of its prerequisites, etc. Do not include 'BIO-399' in your answer.\n",
    "\n",
    "Remark: You will need to write a recursive query to compute the answer since we do not know the length of BIO-399's prerequisite chain in advance."
   ]
  },
  {
   "cell_type": "code",
   "execution_count": 18,
   "metadata": {
    "deletable": false,
    "tags": [
     "Q16"
    ]
   },
   "outputs": [
    {
     "name": "stdout",
     "output_type": "stream",
     "text": [
      "('BIO-301',)\n",
      "('CS-347',)\n",
      "('BIO-101',)\n",
      "('CS-101',)\n"
     ]
    }
   ],
   "source": [
    "query(\n",
    "    \"\"\"\n",
    "    WITH RECURSIVE Bio_Prereq(class_id, prereq) AS (\n",
    "    (SELECT class_id, prereq_id AS prereq FROM Prereq)\n",
    "    UNION\n",
    "    (SELECT P.class_id, B.prereq\n",
    "    FROM Prereq P, Bio_Prereq B\n",
    "    WHERE P.prereq_id = B.class_id)\n",
    "    )\n",
    "    SELECT prereq FROM Bio_Prereq WHERE class_id = 'BIO-399';\n",
    "    \"\"\"\n",
    ")\n",
    "\n"
   ]
  },
  {
   "cell_type": "markdown",
   "metadata": {
    "deletable": false,
    "editable": false
   },
   "source": [
    "## What to Submit\n",
    "\n",
    "Once you finish filling in all cells with your queries, save this notebook and upload it to GradeScope before the deadline. Make sure that the submitted file name is `hw3.ipynb`\n",
    "\n",
    "Note : The final submission should run without errors. Click on 'Kernel -> Restart and Run All', this should return correct answers in each cell and does not give any errors. Make sure the submission contains only the expected commands. Remove all unncessary code that you added during debugging!\n",
    "\n",
    "You can submit your work as many times as you want. In case of multiple submissions, the grade from the latest submission will be used. In order to accommodate the last minute snafu during submission, you will have 1-hour window after the deadline to finish your submission process. That is, as long as you start your submission before the deadline and complete within 1 hour after the deadline, everything will be fine."
   ]
  }
 ],
 "metadata": {
  "kernelspec": {
   "display_name": "Python 3",
   "language": "python",
   "name": "python3"
  },
  "language_info": {
   "codemirror_mode": {
    "name": "ipython",
    "version": 3
   },
   "file_extension": ".py",
   "mimetype": "text/x-python",
   "name": "python",
   "nbconvert_exporter": "python",
   "pygments_lexer": "ipython3",
   "version": "3.8.5"
  }
 },
 "nbformat": 4,
 "nbformat_minor": 4
}
